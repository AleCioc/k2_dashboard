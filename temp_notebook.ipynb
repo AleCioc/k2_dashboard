{
 "cells": [
  {
   "cell_type": "code",
   "execution_count": 3,
   "metadata": {
    "collapsed": true
   },
   "outputs": [
    {
     "name": "stderr",
     "output_type": "stream",
     "text": [
      "\n",
      "\n",
      "====== WebDriver manager ======\n",
      "Current google-chrome version is 99.0.4844\n",
      "Get LATEST chromedriver version for 99.0.4844 google-chrome\n",
      "Driver [/Users/alecioc/.wdm/drivers/chromedriver/mac64_m1/99.0.4844.51/chromedriver] found in cache\n",
      "/var/folders/dt/fd9qffvj52ldl0l0_06wkkz40000gn/T/ipykernel_22181/1990434464.py:48: DeprecationWarning: executable_path has been deprecated, please pass in a Service object\n",
      "  driver = webdriver.Chrome(ChromeDriverManager().install(), options=chrome_options)\n"
     ]
    }
   ],
   "source": [
    "import os\n",
    "import time\n",
    "\n",
    "import dropbox\n",
    "from dropbox.exceptions import AuthError\n",
    "\n",
    "from selenium import webdriver\n",
    "from selenium.webdriver.chrome.options import Options\n",
    "from selenium.webdriver.support.ui import WebDriverWait\n",
    "from selenium.webdriver.common.by import By\n",
    "from selenium.webdriver.support import expected_conditions as EC\n",
    "from selenium.webdriver.common.desired_capabilities import DesiredCapabilities\n",
    "from webdriver_manager.chrome import ChromeDriverManager\n",
    "\n",
    "import pandas as pd\n",
    "\n",
    "from dotenv import load_dotenv\n",
    "\n",
    "load_dotenv()\n",
    "\n",
    "DROPBOX_NAMESPACE_ID = os.environ.get(\"DROPBOX_NAMESPACE_ID\")\n",
    "EMAIL = os.environ.get(\"DROPBOX_USER_MAIL\")\n",
    "PWD = \"Start2storewithDropboxOAI10!\"\n",
    "APP_KEY = os.environ.get(\"APP_KEY\")\n",
    "APP_SECRET = os.environ.get(\"APP_SECRET\")\n",
    "\n",
    "\n",
    "flow = dropbox.DropboxOAuth2FlowNoRedirect(APP_KEY, APP_SECRET)\n",
    "# Have the user sign in and authorize this token\n",
    "authorize_url = flow.start()\n",
    "\n",
    "def init_selenium_driver():\n",
    "    caps = DesiredCapabilities.CHROME\n",
    "    caps['goog:loggingPrefs'] = {'performance': 'ALL'}\n",
    "    chromedriver_path = \"/opt/homebrew/bin/chromedriver\"\n",
    "\n",
    "    chrome_options = Options()\n",
    "    chrome_options.add_argument(\"--disk-cache-size=1073741824\")\n",
    "    chrome_options.add_argument(\"--media-cache-size=1073741824\")\n",
    "    chrome_options.add_experimental_option(\"excludeSwitches\", [\"enable-automation\"])\n",
    "    chrome_options.add_experimental_option('useAutomationExtension', False)\n",
    "    chrome_options.add_argument(\"--disable-blink-features=AutomationControlled\")\n",
    "    # options.add_argument(\"--headless\")\n",
    "    # driver = webdriver.Chrome(options=chrome_options, executable_path=chromedriver_path)\n",
    "    driver = webdriver.Chrome(ChromeDriverManager().install(), options=chrome_options)\n",
    "\n",
    "    return driver\n",
    "\n",
    "driver = init_selenium_driver()"
   ]
  },
  {
   "cell_type": "code",
   "execution_count": 30,
   "outputs": [],
   "source": [
    "driver.get(authorize_url)"
   ],
   "metadata": {
    "collapsed": false,
    "pycharm": {
     "name": "#%%\n"
    }
   }
  },
  {
   "cell_type": "code",
   "execution_count": 31,
   "outputs": [],
   "source": [
    "frame = WebDriverWait(driver, 20).until(\n",
    "    EC.presence_of_element_located((By.XPATH, \"//iframe[@id='consent-iframe']\"))\n",
    ")\n",
    "driver.switch_to.frame(frame)"
   ],
   "metadata": {
    "collapsed": false,
    "pycharm": {
     "name": "#%%\n"
    }
   }
  },
  {
   "cell_type": "code",
   "execution_count": 33,
   "outputs": [],
   "source": [
    "WebDriverWait(driver, 20).until(\n",
    "    EC.presence_of_element_located((By.XPATH, \"//button[@id='_evidon-decline-button']\"))\n",
    ").click()"
   ],
   "metadata": {
    "collapsed": false,
    "pycharm": {
     "name": "#%%\n"
    }
   }
  },
  {
   "cell_type": "code",
   "execution_count": 35,
   "outputs": [],
   "source": [
    "driver.switch_to.default_content()"
   ],
   "metadata": {
    "collapsed": false,
    "pycharm": {
     "name": "#%%\n"
    }
   }
  },
  {
   "cell_type": "code",
   "execution_count": 36,
   "outputs": [],
   "source": [
    "WebDriverWait(driver, 20).until(\n",
    "    EC.presence_of_element_located((\n",
    "        By.XPATH,\n",
    "        '//input[@type=\"email\"]'\n",
    "    ))\n",
    ").send_keys(EMAIL)"
   ],
   "metadata": {
    "collapsed": false,
    "pycharm": {
     "name": "#%%\n"
    }
   }
  },
  {
   "cell_type": "code",
   "execution_count": 37,
   "outputs": [],
   "source": [
    "WebDriverWait(driver, 20).until(\n",
    "    EC.presence_of_element_located((\n",
    "        By.XPATH,\n",
    "        '//input[@type=\"password\"]'\n",
    "    ))\n",
    ").send_keys(PWD)"
   ],
   "metadata": {
    "collapsed": false,
    "pycharm": {
     "name": "#%%\n"
    }
   }
  },
  {
   "cell_type": "code",
   "execution_count": 38,
   "outputs": [],
   "source": [
    "WebDriverWait(driver, 20).until(\n",
    "    EC.presence_of_element_located((\n",
    "        By.XPATH,\n",
    "        '//button[@type=\"submit\"]'\n",
    "    ))\n",
    ").click()"
   ],
   "metadata": {
    "collapsed": false,
    "pycharm": {
     "name": "#%%\n"
    }
   }
  },
  {
   "cell_type": "code",
   "execution_count": 46,
   "outputs": [],
   "source": [
    "driver.get(authorize_url)"
   ],
   "metadata": {
    "collapsed": false,
    "pycharm": {
     "name": "#%%\n"
    }
   }
  },
  {
   "cell_type": "code",
   "execution_count": 47,
   "outputs": [],
   "source": [
    "WebDriverWait(driver, 20).until(\n",
    "    EC.presence_of_element_located((\n",
    "        By.XPATH,\n",
    "        '//button[@type=\"reset\"]'\n",
    "    ))\n",
    ").click()"
   ],
   "metadata": {
    "collapsed": false,
    "pycharm": {
     "name": "#%%\n"
    }
   }
  },
  {
   "cell_type": "code",
   "execution_count": 48,
   "outputs": [],
   "source": [
    "WebDriverWait(driver, 20).until(\n",
    "    EC.presence_of_element_located((\n",
    "        By.XPATH,\n",
    "        '//button[@name=\"allow_access\"]'\n",
    "    ))\n",
    ").click()\n"
   ],
   "metadata": {
    "collapsed": false,
    "pycharm": {
     "name": "#%%\n"
    }
   }
  },
  {
   "cell_type": "code",
   "execution_count": 49,
   "outputs": [
    {
     "data": {
      "text/plain": "'xOZRS9JcJG4AAAAAAAAF-bv5bMon7NZLG4eWfPU40fY'"
     },
     "execution_count": 49,
     "metadata": {},
     "output_type": "execute_result"
    }
   ],
   "source": [
    "auth_code = WebDriverWait(driver, 20).until(\n",
    "    EC.presence_of_element_located((\n",
    "        By.XPATH,\n",
    "        '//input[@type=\"text\"]'\n",
    "    ))\n",
    ").get_attribute(\"data-token\")"
   ],
   "metadata": {
    "collapsed": false,
    "pycharm": {
     "name": "#%%\n"
    }
   }
  },
  {
   "cell_type": "code",
   "execution_count": null,
   "outputs": [],
   "source": [
    "auth_code"
   ],
   "metadata": {
    "collapsed": false,
    "pycharm": {
     "name": "#%%\n"
    }
   }
  },
  {
   "cell_type": "code",
   "execution_count": 50,
   "outputs": [
    {
     "name": "stdout",
     "output_type": "stream",
     "text": [
      "OAuth2FlowNoRedirectResult(sl.BFMoQtfSlMKWHyYr-J2X9n1Ehb6o8auGpg95U9T3PyQma41_ThXy-pHQAsNeTdLJtOJt3-UIc1NiXZNY1J2GX4nTDKtGXwmpb0S3P0QTI4y5sHWMLewITxg2k_1cx6O3m2mUbJbitXpD, dbtid:AACULwIrT5GBnZZD7Iu7eN6LSBSGOzyQezY, , , 2022-04-06 21:00:12.326444, account_info.read account_info.write contacts.read contacts.write events.read file_requests.read file_requests.write files.content.read files.content.write files.metadata.read files.metadata.write files.permanent_delete files.team_metadata.write groups.read groups.write members.delete members.read members.write sessions.list sessions.modify sharing.read sharing.write team_data.member team_data.team_space team_info.read)\n"
     ]
    }
   ],
   "source": [
    "# This will fail if the user enters an invalid authorization code\n",
    "oauth_flow_dbx_obj = flow.finish(auth_code)\n",
    "print(oauth_flow_dbx_obj)"
   ],
   "metadata": {
    "collapsed": false,
    "pycharm": {
     "name": "#%%\n"
    }
   }
  },
  {
   "cell_type": "code",
   "execution_count": 51,
   "outputs": [
    {
     "data": {
      "text/plain": "''"
     },
     "execution_count": 51,
     "metadata": {},
     "output_type": "execute_result"
    }
   ],
   "source": [
    "oauth_flow_dbx_obj.user_id"
   ],
   "metadata": {
    "collapsed": false,
    "pycharm": {
     "name": "#%%\n"
    }
   }
  },
  {
   "cell_type": "code",
   "execution_count": 52,
   "outputs": [
    {
     "data": {
      "text/plain": "'sl.BFMoQtfSlMKWHyYr-J2X9n1Ehb6o8auGpg95U9T3PyQma41_ThXy-pHQAsNeTdLJtOJt3-UIc1NiXZNY1J2GX4nTDKtGXwmpb0S3P0QTI4y5sHWMLewITxg2k_1cx6O3m2mUbJbitXpD'"
     },
     "execution_count": 52,
     "metadata": {},
     "output_type": "execute_result"
    }
   ],
   "source": [
    "oauth_flow_dbx_obj.access_token"
   ],
   "metadata": {
    "collapsed": false,
    "pycharm": {
     "name": "#%%\n"
    }
   }
  },
  {
   "cell_type": "code",
   "execution_count": 53,
   "outputs": [
    {
     "data": {
      "text/plain": "'account_info.read account_info.write contacts.read contacts.write events.read file_requests.read file_requests.write files.content.read files.content.write files.metadata.read files.metadata.write files.permanent_delete files.team_metadata.write groups.read groups.write members.delete members.read members.write sessions.list sessions.modify sharing.read sharing.write team_data.member team_data.team_space team_info.read'"
     },
     "execution_count": 53,
     "metadata": {},
     "output_type": "execute_result"
    }
   ],
   "source": [
    "oauth_flow_dbx_obj.scope"
   ],
   "metadata": {
    "collapsed": false,
    "pycharm": {
     "name": "#%%\n"
    }
   }
  },
  {
   "cell_type": "code",
   "execution_count": 61,
   "outputs": [
    {
     "name": "stdout",
     "output_type": "stream",
     "text": [
      "dbmid:AAAKI-2bsP_Bh6713-Dz931ksKMka0OBw_A\n"
     ]
    }
   ],
   "source": [
    "dbx_team = dropbox.dropbox_client.DropboxTeam(\n",
    "    oauth_flow_dbx_obj.access_token\n",
    ")\n",
    "#print(dbx_team.team_get_info())\n",
    "\n",
    "team_member_info = dbx_team.team_members_get_info(\n",
    "    [dropbox.team.UserSelectorArg(\"email\", EMAIL)]\n",
    ")[0].get_member_info()\n",
    "\n",
    "#print(team_member_info.profile)\n",
    "print(team_member_info.profile.team_member_id)"
   ],
   "metadata": {
    "collapsed": false,
    "pycharm": {
     "name": "#%%\n"
    }
   }
  },
  {
   "cell_type": "code",
   "execution_count": 108,
   "outputs": [
    {
     "name": "stdout",
     "output_type": "stream",
     "text": [
      "simone.rossi1199@gmail.com dbmid:AACU5JUEskY0plddsoAbStxGkyYlHxwrDDM\n"
     ]
    }
   ],
   "source": [
    "for email in [\n",
    "    #\"alessandro@ciociola.me\",\n",
    "    #\"marco.torlaschi@occupyai.tech\",\n",
    "    #\"lucabaggi.uni@gmail.com\",\n",
    "    #\"info@marziacamarda.it\",\n",
    "    \"simone.rossi1199@gmail.com\"\n",
    "]:\n",
    "\n",
    "    team_member_info = dbx_team.team_members_get_info(\n",
    "        [dropbox.team.UserSelectorArg(\"email\", email)]\n",
    "    )[0].get_member_info()\n",
    "\n",
    "    #print(team_member_info.profile)\n",
    "    print(team_member_info.profile.email, team_member_info.profile.team_member_id)"
   ],
   "metadata": {
    "collapsed": false,
    "pycharm": {
     "name": "#%%\n"
    }
   }
  },
  {
   "cell_type": "code",
   "execution_count": 109,
   "outputs": [],
   "source": [
    "team_member_id = team_member_info.profile.team_member_id\n",
    "dbx = dropbox.dropbox_client.DropboxTeam(\n",
    "    oauth_flow_dbx_obj.access_token\n",
    ").with_path_root(dropbox.common.PathRoot.namespace_id(DROPBOX_NAMESPACE_ID)).as_user(\n",
    "    team_member_id=team_member_id\n",
    ")"
   ],
   "metadata": {
    "collapsed": false,
    "pycharm": {
     "name": "#%%\n"
    }
   }
  },
  {
   "cell_type": "code",
   "execution_count": 110,
   "outputs": [
    {
     "name": "stdout",
     "output_type": "stream",
     "text": [
      "FullAccount(account_id='dbid:AAAaj7WK1gUbPSEYibRUY_rDTp9lTUCe5PI', account_type=AccountType('business', None), country='IT', disabled=False, email='simone.rossi1199@gmail.com', email_verified=True, is_paired=False, locale='en', name=Name(abbreviated_name='SR', display_name='Simone Rossi', familiar_name='Simone', given_name='Simone', surname='Rossi'), profile_photo_url=NOT_SET, referral_link='https://www.dropbox.com/referrals/AACyyvFyHEIg_wwmVT6bGEu18xPZyIUpz48?src=app9-3008337', root_info=TeamRootInfo(home_namespace_id='10168773152', home_path='/Simone Rossi', root_namespace_id='9401968128'), team=FullTeam(id='dbtid:AACULwIrT5GBnZZD7Iu7eN6LSBSGOzyQezY', name='Occupy AI', office_addin_policy=OfficeAddInPolicy('enabled', None), sharing_policies=TeamSharingPolicies(shared_folder_join_policy=SharedFolderJoinPolicy('from_anyone', None), shared_folder_member_policy=SharedFolderMemberPolicy('anyone', None), shared_link_create_policy=SharedLinkCreatePolicy('default_public', None))), team_member_id='dbmid:AACU5JUEskY0plddsoAbStxGkyYlHxwrDDM')\n"
     ]
    }
   ],
   "source": [
    "print(dbx.users_get_current_account())"
   ],
   "metadata": {
    "collapsed": false,
    "pycharm": {
     "name": "#%%\n"
    }
   }
  },
  {
   "cell_type": "code",
   "execution_count": 123,
   "outputs": [],
   "source": [
    "list_folder_results = dbx.files_list_folder(\"/k2\")"
   ],
   "metadata": {
    "collapsed": false,
    "pycharm": {
     "name": "#%%\n"
    }
   }
  },
  {
   "cell_type": "code",
   "execution_count": 124,
   "outputs": [
    {
     "data": {
      "text/plain": "ListFolderResult(cursor='AAE18Kwx4uwDP9wsxlkPnxTxu-7FhCY55HywzzxAGm-A5b7xikUrGK97h6FOcaBTGnor5t4DqqMJ9JDvmOIKe4I7IO654EDQvtCnZJDYA5BOca2oS-KJPBggXFOPt79Thq4cjlgLrlre5BfPDrH3kIQr2LvanDrc6LBhoczRH51ce7QzFTTQelSzDo8kLl3anwQk10Imzk0txOI_diEfotTgfzBaD4y_p0c9zknXkzPmSiHGVqg3gS-Rtb8jauKXm6beZImzfF9qWSDj22Hk6xlL3pJBxgacP2SanBsxj5n7bg', entries=[FolderMetadata(id='id:SB_A3-rGVJwAAAAAAADdzQ', name='metadata', parent_shared_folder_id='10169967056', path_display='/k2/metadata', path_lower='/k2/metadata', property_groups=NOT_SET, shared_folder_id=NOT_SET, sharing_info=FolderSharingInfo(no_access=False, parent_shared_folder_id='10169967056', read_only=False, shared_folder_id=NOT_SET, traverse_only=False)), FolderMetadata(id='id:SB_A3-rGVJwAAAAAAADdzg', name='raw_photos', parent_shared_folder_id='10169967056', path_display='/k2/raw_photos', path_lower='/k2/raw_photos', property_groups=NOT_SET, shared_folder_id=NOT_SET, sharing_info=FolderSharingInfo(no_access=False, parent_shared_folder_id='10169967056', read_only=False, shared_folder_id=NOT_SET, traverse_only=False)), FolderMetadata(id='id:Er23tj3YP_gAAAAAAAAAAQ', name='processed_photos', parent_shared_folder_id='10169967056', path_display='/k2/processed_photos', path_lower='/k2/processed_photos', property_groups=NOT_SET, shared_folder_id='10213325872', sharing_info=FolderSharingInfo(no_access=False, parent_shared_folder_id='10169967056', read_only=False, shared_folder_id='10213325872', traverse_only=False))], has_more=False)"
     },
     "execution_count": 124,
     "metadata": {},
     "output_type": "execute_result"
    }
   ],
   "source": [
    "list_folder_results"
   ],
   "metadata": {
    "collapsed": false,
    "pycharm": {
     "name": "#%%\n"
    }
   }
  },
  {
   "cell_type": "code",
   "execution_count": 125,
   "outputs": [
    {
     "name": "stdout",
     "output_type": "stream",
     "text": [
      "[FolderMetadata(id='id:SB_A3-rGVJwAAAAAAADdzQ', name='metadata', parent_shared_folder_id='10169967056', path_display='/k2/metadata', path_lower='/k2/metadata', property_groups=NOT_SET, shared_folder_id=NOT_SET, sharing_info=FolderSharingInfo(no_access=False, parent_shared_folder_id='10169967056', read_only=False, shared_folder_id=NOT_SET, traverse_only=False)), FolderMetadata(id='id:SB_A3-rGVJwAAAAAAADdzg', name='raw_photos', parent_shared_folder_id='10169967056', path_display='/k2/raw_photos', path_lower='/k2/raw_photos', property_groups=NOT_SET, shared_folder_id=NOT_SET, sharing_info=FolderSharingInfo(no_access=False, parent_shared_folder_id='10169967056', read_only=False, shared_folder_id=NOT_SET, traverse_only=False)), FolderMetadata(id='id:Er23tj3YP_gAAAAAAAAAAQ', name='processed_photos', parent_shared_folder_id='10169967056', path_display='/k2/processed_photos', path_lower='/k2/processed_photos', property_groups=NOT_SET, shared_folder_id='10213325872', sharing_info=FolderSharingInfo(no_access=False, parent_shared_folder_id='10169967056', read_only=False, shared_folder_id='10213325872', traverse_only=False))]\n",
      "/k2/metadata\n",
      "/k2/raw_photos\n",
      "/k2/processed_photos\n"
     ]
    }
   ],
   "source": [
    "#while list_folder_results.has_more:\n",
    "\n",
    "files = list_folder_results.entries\n",
    "print(files)\n",
    "for file in files:\n",
    "    print(file.path_display)\n",
    "\n",
    "#client = dropbox.Dropbox(access_token)\n",
    "#print('successfully linked account: ', client.users_get_current_account().name.display_name)\n",
    "#with open(DROPBOX_TOKEN_PATH, 'w') as fout:\n",
    "#    fout.write(access_token)"
   ],
   "metadata": {
    "collapsed": false,
    "pycharm": {
     "name": "#%%\n"
    }
   }
  },
  {
   "cell_type": "code",
   "execution_count": null,
   "outputs": [],
   "source": [],
   "metadata": {
    "collapsed": false,
    "pycharm": {
     "name": "#%%\n"
    }
   }
  }
 ],
 "metadata": {
  "kernelspec": {
   "display_name": "Python 3",
   "language": "python",
   "name": "python3"
  },
  "language_info": {
   "codemirror_mode": {
    "name": "ipython",
    "version": 2
   },
   "file_extension": ".py",
   "mimetype": "text/x-python",
   "name": "python",
   "nbconvert_exporter": "python",
   "pygments_lexer": "ipython2",
   "version": "2.7.6"
  }
 },
 "nbformat": 4,
 "nbformat_minor": 0
}